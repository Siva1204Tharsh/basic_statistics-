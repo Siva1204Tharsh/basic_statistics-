{
 "cells": [
  {
   "cell_type": "markdown",
   "metadata": {},
   "source": [
    "Permutation "
   ]
  },
  {
   "cell_type": "code",
   "execution_count": 8,
   "metadata": {},
   "outputs": [
    {
     "name": "stdout",
     "output_type": "stream",
     "text": [
      "(1, 2)\n",
      "(1, 3)\n",
      "(2, 1)\n",
      "(2, 3)\n",
      "(3, 1)\n",
      "(3, 2)\n",
      " Total number of permutations are  6\n"
     ]
    }
   ],
   "source": [
    "from itertools import permutations\n",
    "count = 0\n",
    "data =[1,2,3]\n",
    "\n",
    "# print (permutations(data,2))\n",
    "\n",
    "for i in permutations(data,2):\n",
    "    count+=1\n",
    "    print(i)\n",
    "    \n",
    "print(\" Total number of permutations are \",count)\n",
    "\n"
   ]
  },
  {
   "cell_type": "code",
   "execution_count": 17,
   "metadata": {},
   "outputs": [
    {
     "name": "stdout",
     "output_type": "stream",
     "text": [
      "(1, 2)\n",
      "(1, 3)\n",
      "(2, 3)\n",
      " Total number of combinations are  3\n"
     ]
    }
   ],
   "source": [
    "from itertools import combinations\n",
    "count = 0\n",
    "data =[1,2,3]\n",
    "\n",
    "# print (combinations(data,2))\n",
    "com=combinations(data,2)\n",
    "# print (list(com))\n",
    "\n",
    "for i in list(com):\n",
    "    count+=1\n",
    "    print(i)\n",
    "    \n",
    "print(\" Total number of combinations are \",count)"
   ]
  }
 ],
 "metadata": {
  "kernelspec": {
   "display_name": "datascience",
   "language": "python",
   "name": "python3"
  },
  "language_info": {
   "codemirror_mode": {
    "name": "ipython",
    "version": 3
   },
   "file_extension": ".py",
   "mimetype": "text/x-python",
   "name": "python",
   "nbconvert_exporter": "python",
   "pygments_lexer": "ipython3",
   "version": "3.8.19"
  }
 },
 "nbformat": 4,
 "nbformat_minor": 2
}
