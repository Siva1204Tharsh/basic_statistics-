{
 "cells": [
  {
   "cell_type": "markdown",
   "metadata": {},
   "source": [
    "# HypothesisTesting  -Two sample z-test"
   ]
  },
  {
   "cell_type": "markdown",
   "metadata": {},
   "source": [
    "Null hypothesis: Temperature doesn't affect COVID Outbreak\n",
    "\n",
    "Alternative hypothesis: Temperature does affects COVID Outbreak"
   ]
  },
  {
   "cell_type": "code",
   "execution_count": 1,
   "metadata": {},
   "outputs": [],
   "source": [
    "import numpy as np\n",
    "import pandas as pd"
   ]
  },
  {
   "cell_type": "code",
   "execution_count": 2,
   "metadata": {},
   "outputs": [
    {
     "name": "stdout",
     "output_type": "stream",
     "text": [
      "(206, 12)\n",
      "  Province/State              Country/Region          Last Update  Confirmed  \\\n",
      "0          Hubei              Mainland China  2020-03-10T15:13:05      67760   \n",
      "1            NaN                       Italy  2020-03-10T17:53:02      10149   \n",
      "2            NaN  Iran (Islamic Republic of)  2020-03-10T19:13:20       8042   \n",
      "3            NaN           Republic of Korea  2020-03-10T19:13:20       7513   \n",
      "4            NaN                      France  2020-03-10T18:53:02       1784   \n",
      "\n",
      "   Deaths  Recovered  Latitude  Longitude  Temprature  Humidity  Temp_Cat  \\\n",
      "0    3024      47743   30.9756   112.2707        12.5        86         1   \n",
      "1     631        724   43.0000    12.0000        12.9        64         1   \n",
      "2     291       2731   32.0000    53.0000        11.9         9         0   \n",
      "3      54        247   36.0000   128.0000         4.9        41         0   \n",
      "4      33         12   47.0000     2.0000        11.9        93         0   \n",
      "\n",
      "   Humid_Cat  \n",
      "0          1  \n",
      "1          1  \n",
      "2          0  \n",
      "3          0  \n",
      "4          0  \n"
     ]
    }
   ],
   "source": [
    "df=pd.read_csv('datasetH0.csv')\n",
    "print(df.shape)\n",
    "print(df.head())\n"
   ]
  },
  {
   "cell_type": "markdown",
   "metadata": {},
   "source": [
    "Considering  Temperature below 24 as Cold Climate and Temperature above 24 as Hot Climate in our dataset"
   ]
  },
  {
   "cell_type": "code",
   "execution_count": 4,
   "metadata": {},
   "outputs": [
    {
     "name": "stdout",
     "output_type": "stream",
     "text": [
      "   Confirmed  Temp_Cat\n",
      "0      67760         0\n",
      "1      10149         0\n",
      "2       8042         0\n",
      "3       7513         0\n",
      "4       1784         0\n"
     ]
    }
   ],
   "source": [
    "df['Temp_Cat'] =df['Temprature'].apply(lambda x: 0 if x <24 else 1)\n",
    "datasetModified = df[['Confirmed','Temp_Cat']]\n",
    "print(datasetModified.head(5))"
   ]
  },
  {
   "cell_type": "code",
   "execution_count": 8,
   "metadata": {},
   "outputs": [],
   "source": [
    "d1=datasetModified[(datasetModified['Temp_Cat']==1)]['Confirmed']\n",
    "d2=datasetModified[(datasetModified['Temp_Cat']==0)]['Confirmed']\n",
    "\n",
    "m1,m2=d1.mean(),d2.mean()\n",
    "sd1,sd2=d1.std(),d2.std()\n",
    "n1,n2=d1.shape[0],d2.shape[0]\n"
   ]
  },
  {
   "cell_type": "code",
   "execution_count": 11,
   "metadata": {},
   "outputs": [],
   "source": [
    "from numpy import sqrt , abs ,round\n",
    "from scipy.stats import norm\n",
    "def model(X1,X2 ,sigma1,sigma2,N1,N2):\n",
    "    ovr_sigma = sqrt(sigma1**2/N1 + sigma2**2/N2)\n",
    "    z = (X1-X2)/ovr_sigma\n",
    "    pval = 2*(1-norm.cdf(abs(z)))\n",
    "    return z  ,pval\n",
    "z , p = model(m1,m2,sd1,sd2,n1,n2)\n",
    "\n"
   ]
  },
  {
   "cell_type": "code",
   "execution_count": 12,
   "metadata": {},
   "outputs": [
    {
     "name": "stdout",
     "output_type": "stream",
     "text": [
      "0.102054\n",
      "Fail to Reject Null Hypothesis:Non-Significant\n"
     ]
    }
   ],
   "source": [
    "z_score= np.round(z,8)\n",
    "p_val=np.round(p,6)\n",
    "\n",
    "if(p_val<0.05):\n",
    "    Hypothesis='Reject Null Hypothesis:Significant'\n",
    "else:\n",
    "    Hypothesis='Fail to Reject Null Hypothesis:Non-Significant'\n",
    "\n",
    "print(p_val)\n",
    "print(Hypothesis)"
   ]
  }
 ],
 "metadata": {
  "kernelspec": {
   "display_name": "datascience",
   "language": "python",
   "name": "python3"
  },
  "language_info": {
   "codemirror_mode": {
    "name": "ipython",
    "version": 3
   },
   "file_extension": ".py",
   "mimetype": "text/x-python",
   "name": "python",
   "nbconvert_exporter": "python",
   "pygments_lexer": "ipython3",
   "version": "3.8.19"
  }
 },
 "nbformat": 4,
 "nbformat_minor": 2
}
