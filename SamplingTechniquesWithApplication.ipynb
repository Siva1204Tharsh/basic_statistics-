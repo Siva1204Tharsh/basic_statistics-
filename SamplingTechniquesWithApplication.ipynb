{
 "cells": [
  {
   "cell_type": "code",
   "execution_count": 1,
   "metadata": {},
   "outputs": [],
   "source": [
    "import numpy as np\n",
    "import pandas as pd"
   ]
  },
  {
   "cell_type": "code",
   "execution_count": 8,
   "metadata": {},
   "outputs": [
    {
     "name": "stdout",
     "output_type": "stream",
     "text": [
      "   Id  LotArea  SalePrice\n",
      "0   1     8450     208500\n",
      "1   2     9600     181500\n",
      "2   3    11250     223500\n",
      "3   4     9550     140000\n",
      "4   5    14260     250000\n",
      "5   6    14115     143000\n",
      "6   7    10084     307000\n",
      "7   8    10382     200000\n",
      "8   9     6120     129900\n",
      "9  10     7420     118000\n",
      "(1460, 3)\n",
      "                Id        LotArea      SalePrice\n",
      "count  1460.000000    1460.000000    1460.000000\n",
      "mean    730.500000   10516.828082  180921.195890\n",
      "std     421.610009    9981.264932   79442.502883\n",
      "min       1.000000    1300.000000   34900.000000\n",
      "25%     365.750000    7553.500000  129975.000000\n",
      "50%     730.500000    9478.500000  163000.000000\n",
      "75%    1095.250000   11601.500000  214000.000000\n",
      "max    1460.000000  215245.000000  755000.000000\n"
     ]
    }
   ],
   "source": [
    "df=pd.read_csv('Dataset-STWA.csv')\n",
    "print(df.head(10))\n",
    "print(df.shape) #number of rows and columns\n",
    "print(df.describe())"
   ]
  },
  {
   "cell_type": "markdown",
   "metadata": {},
   "source": [
    "01.Simple random sampling"
   ]
  },
  {
   "cell_type": "code",
   "execution_count": 11,
   "metadata": {},
   "outputs": [
    {
     "name": "stdout",
     "output_type": "stream",
     "text": [
      "Mean of LotArea is  9532.7\n",
      "list of sample is\n",
      "          Id  LotArea  SalePrice\n",
      "163    164     5500     103200\n",
      "238    239    12030     318000\n",
      "297    298     7399     239000\n",
      "392    393     8339     106500\n",
      "503    504    15602     289000\n",
      "653    654    10320     135000\n",
      "679    680     9945     128500\n",
      "1097  1098     3696     170000\n",
      "1144  1145    12180      80000\n",
      "1354  1355    10316     235000\n"
     ]
    }
   ],
   "source": [
    "simpleRandomSample = df.sample(n=10).sort_values(by='Id')\n",
    "mean_simpleRandomSample = round(simpleRandomSample['LotArea'].mean(),2)\n",
    "print(\"Mean of LotArea is \",mean_simpleRandomSample)\n",
    "print(\"list of sample is\\n \",simpleRandomSample)\n"
   ]
  },
  {
   "cell_type": "markdown",
   "metadata": {},
   "source": [
    "02.Systematic Sampling"
   ]
  },
  {
   "cell_type": "code",
   "execution_count": 15,
   "metadata": {},
   "outputs": [
    {
     "name": "stdout",
     "output_type": "stream",
     "text": [
      "Mean of systematic sample is  10269.5\n",
      "Standard deviation of systematic sample is   77475.53\n",
      "list of systematic sample is \n",
      "          Id  LotArea  SalePrice\n",
      "0        1     8450     208500\n",
      "6        7    10084     307000\n",
      "12      13    12968     144000\n",
      "18      19    13695     159000\n",
      "24      25     8246     154000\n",
      "...    ...      ...        ...\n",
      "1434  1435    17400     160000\n",
      "1440  1441    11526     191000\n",
      "1446  1447    26142     157900\n",
      "1452  1453     3675     145000\n",
      "1458  1459     9717     142125\n",
      "\n",
      "[244 rows x 3 columns]\n"
     ]
    }
   ],
   "source": [
    "indexVal=np.arange(0,len(df),step=6)\n",
    "systematicSample=df.iloc[indexVal]\n",
    "mean_systematicSample=round(systematicSample['LotArea'].mean(),2)\n",
    "std_systematicSample=round(systematicSample['SalePrice'].std(),2)\n",
    "\n",
    "print(\"Mean of systematic sample is \",mean_systematicSample)\n",
    "print(\"Standard deviation of systematic sample is  \",std_systematicSample)\n",
    "print(\"list of systematic sample is \\n \",systematicSample)"
   ]
  },
  {
   "cell_type": "markdown",
   "metadata": {},
   "source": []
  }
 ],
 "metadata": {
  "kernelspec": {
   "display_name": "datascience",
   "language": "python",
   "name": "python3"
  },
  "language_info": {
   "codemirror_mode": {
    "name": "ipython",
    "version": 3
   },
   "file_extension": ".py",
   "mimetype": "text/x-python",
   "name": "python",
   "nbconvert_exporter": "python",
   "pygments_lexer": "ipython3",
   "version": "3.8.19"
  }
 },
 "nbformat": 4,
 "nbformat_minor": 2
}
